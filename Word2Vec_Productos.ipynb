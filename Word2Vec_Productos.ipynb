{
 "cells": [
  {
   "cell_type": "code",
   "execution_count": 1,
   "id": "c5d9f5c8-c005-4303-9ab2-3f97125ea8e2",
   "metadata": {},
   "outputs": [],
   "source": [
    "import pyodbc\n",
    "import pandas as pd\n",
    "server = 'nombre_servidor'  # Cambia por tu servidor\n",
    "database = 'nombre_base_datos'  # Cambia por tu base de datos\n",
    "username = 'usuario'  # Cambia por tu usuario\n",
    "password = 'contraseña'  # Cambia por tu contraseña\n",
    "\n",
    "# Crear conexión\n",
    "connection_string = f\"DRIVER={{ODBC Driver 17 for SQL Server}};SERVER=localhost\\SQLEXPRESS01;DATABASE=datamart_importaciones_2;Trusted_Connection=yes;\"\n",
    "conn = pyodbc.connect(connection_string)"
   ]
  },
  {
   "cell_type": "code",
   "execution_count": 2,
   "id": "88af11c2-e163-4047-a6b9-c996e7e3609a",
   "metadata": {},
   "outputs": [],
   "source": [
    "query = \"SELECT * FROM Dim_Mercaderia\""
   ]
  },
  {
   "cell_type": "code",
   "execution_count": 3,
   "id": "69a8b0c3-1e1b-4807-9331-0d9ee7b34932",
   "metadata": {},
   "outputs": [],
   "source": [
    "df = pd.read_sql(query,conn)"
   ]
  },
  {
   "cell_type": "code",
   "execution_count": 4,
   "id": "0337eb72-8fe4-4dc5-b7ba-4b45a7e24aba",
   "metadata": {},
   "outputs": [],
   "source": [
    "# Preprocesamiento\n",
    "import re \n",
    "def preprocess_text(text):\n",
    "    text = re.sub(r\"[^a-zA-Z\\s]\", \" \", text)  # Quitar caracteres especiales\n",
    "    text = text.lower().strip()  # Minúsculas y eliminar espacios extra\n",
    "    return text\n"
   ]
  },
  {
   "cell_type": "code",
   "execution_count": 5,
   "id": "17ad7f70-73fa-496c-84ce-7bf5eb4b2cad",
   "metadata": {},
   "outputs": [],
   "source": [
    "df['limpio'] = df['mercaderia'].apply(lambda x:x.replace(\", S/M\",\"\").replace(\",S/M\",\"\"))\n",
    "df['limpio'] = df['limpio'].apply(lambda x:preprocess_text(x))"
   ]
  },
  {
   "cell_type": "code",
   "execution_count": 6,
   "id": "3d67c7c8-1d5c-46ed-acea-8abf93130894",
   "metadata": {
    "scrolled": true
   },
   "outputs": [
    {
     "name": "stdout",
     "output_type": "stream",
     "text": [
      "Dimensión del vector: 100\n"
     ]
    }
   ],
   "source": [
    "from gensim.models import Word2Vec\n",
    "\n",
    "# Cargar el modelo Word2Vec preentrenado\n",
    "w2v_model = Word2Vec.load(\"w2v_model.model\")\n",
    "# Verifica la dimensión de los vectores\n",
    "vector_size = w2v_model.vector_size\n",
    "print(f\"Dimensión del vector: {vector_size}\")\n",
    "\n",
    "# Función para calcular el promedio del embedding de una frase\n",
    "def calculate_average_embedding(sentence, model):\n",
    "    tokens = sentence.split()  # Tokenizar la oración\n",
    "    word_vectors = [model.wv[word] for word in tokens if word in model.wv]  # Filtrar palabras fuera del vocabulario\n",
    "    if not word_vectors:  # Si no hay palabras en el vocabulario, retornar un vector de ceros\n",
    "        return np.zeros(model.vector_size)\n",
    "    return np.mean(word_vectors, axis=0)  # Promediar los vectores de las palabras\n"
   ]
  },
  {
   "cell_type": "code",
   "execution_count": 7,
   "id": "74bfab32-4e8c-4717-892b-04cf8a920bef",
   "metadata": {
    "scrolled": true
   },
   "outputs": [],
   "source": [
    "import pandas as pd\n",
    "import numpy as np\n",
    "# Calcular los embeddings promedio para cada texto\n",
    "df['embedding'] = df['limpio'].apply(lambda x: calculate_average_embedding(x, w2v_model))"
   ]
  },
  {
   "cell_type": "code",
   "execution_count": 8,
   "id": "cf2ed811-9d6e-464c-815a-bfbd7cf725e2",
   "metadata": {},
   "outputs": [],
   "source": [
    "vector_matrix = np.array(df['embedding'].tolist())"
   ]
  },
  {
   "cell_type": "code",
   "execution_count": 9,
   "id": "938f3a2f-92bc-41e9-9713-6ff741a3324f",
   "metadata": {
    "scrolled": true
   },
   "outputs": [],
   "source": [
    "import matplotlib.pyplot as plt\n",
    "from tqdm import tqdm\n",
    "from sklearn.cluster import KMeans\n",
    "kmeans = KMeans(n_clusters=30, random_state=42,n_init=5)\n",
    "df['etiqueta'] = kmeans.fit_predict(vector_matrix)"
   ]
  },
  {
   "cell_type": "code",
   "execution_count": 14,
   "id": "354efc32-116f-4765-8ceb-a0f48a5bf4bf",
   "metadata": {
    "scrolled": true
   },
   "outputs": [
    {
     "name": "stdout",
     "output_type": "stream",
     "text": [
      "Cluster 25: valvula, bomba, agua, manguera, tubo, para, combustible, motor, tanque, electrico, hidraulica, escape, ventilador, aire, tapa, tuberia, aceite, valvulas, hidraulico, electrica\n",
      "Cluster 9: aceite, para, plato, taza, vaso, sabor, masglo, mango, crema, polvo, filtro, tinto, vino, marca, leche, miniso, bebida, bomba, base, botella\n",
      "Cluster 18: para, reparacion, sellos, piston, mantenimiento, embrague, valvula, caterpillar, modelo, motor, empaque, bomba, cilindro, montaje, servicio, juntas, filtro, bajaj, sello, accesorios\n",
      "Cluster 4: cable, para, mini, soporte, pantalla, conector, plus, marca, adaptador, lenovo, sensor, tarjeta, teclado, disco, bateria, computadora, celular, panel, switch, digital\n",
      "Cluster 12: filtro, aire, para, interruptor, freno, valvula, agua, presion, aceite, sensor, elemento, modelo, combustible, bomba, pastilla, tubo, encendido, bobina, control, protector\n",
      "Cluster 3: para, puerta, freno, posterior, brazo, honda, cubierta, tapa, amortiguador, inferior, manija, resorte, asiento, bocina, neumatico, cilindro, espejo, delantera, izquierdo, carro\n",
      "Cluster 8: para, juguete, modelo, marca, adorno, tipo, plastico, tapa, mini, metal, color, blanco, home, porta, lampara, juego, tela, barra, plato, zapatilla\n",
      "Cluster 21: home, para, collection, just, zapatilla, black, monturas, modelo, barrel, body, crate, polo, with, star, shirt, remera, works, bath, great, love\n",
      "Cluster 13: libros, para, libro, modelo, allen, panoplia, arnoia, hugo, boss, bradley, john, cinta, stanley, disco, deere, adolfo, dominguez, cadena, casa, varios\n",
      "Cluster 28: anillo, modelo, todomoda, jgte, disco, isadora, para, lovisa, marca, juguete, cocina, anillos, aros, pandora, ring, piston, miniso, sello, freno, moda\n",
      "Cluster 26: para, pantal, conexi, presi, stico, cable, marca, calcet, modelo, alimentaci, direcci, sost, transmisi, pist, lvula, anillo, filtro, dewalt, placa, tomatodo\n",
      "Cluster 19: tipo, tela, tejido, punto, para, marca, waikiki, modelo, polo, shirt, remera, zapatilla, trama, urdimbre, puma, caja, placa, tapa, monturas, honda\n",
      "Cluster 22: tornillo, para, broca, llave, bloqueo, osteomed, modelo, acero, placa, wiseup, marca, acumed, tubo, stanley, aluminio, dado, tramontina, cortical, disco, barra\n",
      "Cluster 0: delantero, conjunto, llave, para, rueda, juego, hexagonal, lateral, sello, marca, mayoral, faro, copa, barra, pelota, volante, modelo, freno, equipo, tabla\n",
      "Cluster 24: para, soporte, pendientes, lovisa, junta, control, modulo, base, caja, modelo, reten, terminal, direccion, sistema, mesa, boton, unidad, seguridad, total, superior\n",
      "Cluster 2: electric, siemens, para, schneider, motor, sigma, technology, faro, aldrich, soporte, interruptor, international, caja, dahua, modelo, controlador, modulo, cable, camara, technologies\n",
      "Cluster 15: para, plastico, acero, tapa, vidrio, sandalia, tornillo, metal, aluminio, cepillo, miniso, madera, inoxidable, tubo, baldosas, rodillo, rodamiento, esmaltadas, polietileno, lampara\n",
      "Cluster 14: oring, arandela, nitrilo, rodamiento, empaquetadura, cojinete, templador, abrazadera, arrancador, todomoda, buje, brida, epiroc, zapatillaarca, espaciador, casaideas, tobera, guardafango, miniso, manometro\n",
      "Cluster 6: para, chaqueta, polo, pantal, shirt, remera, cable, dama, zapatilla, vestido, dulo, varon, modelo, quina, filtro, placa, tornillo, calcet, short, dado\n",
      "Cluster 10: bolso, cartera, mano, mochila, marca, caja, billetera, bolsa, guess, pistola, para, todomoda, morral, porta, zara, regalo, tarjeta, desigual, canguro, carolina\n",
      "Cluster 11: sensor, para, bateria, conector, pantalla, cable, teclado, parlante, celular, interruptor, cargador, laptop, adaptador, apple, portatil, computadora, lenovo, bluetooth, temperatura, inalambrico\n",
      "Cluster 1: marca, para, modelo, lvula, zapatilla, placa, tarjeta, madre, motor, lenovo, bateria, monturas, oring, cable, interruptor, bomba, viton, mpara, rodamiento, allen\n",
      "Cluster 16: toyota, modelo, para, marca, peugeot, hino, pujol, amado, conjunto, soporte, waikiki, bateria, laptop, benz, filtro, mercedes, cubierta, cable, motor, bana\n",
      "Cluster 7: caterpillar, sello, perno, soporte, conexion, anillo, tubo, placa, manguera, valvula, pasador, bocina, cable, cubierta, elemento, cables, tapon, protector, bomba, reten\n",
      "Cluster 27: gafas, anteojos, zapatilla, para, collar, chaqueta, vestido, camisa, polo, chanel, lovisa, gorro, color, miniso, brazalete, casaca, cabello, peluche, sombrero, pantalon\n",
      "Cluster 17: motor, hyundai, toyota, marca, modelo, honda, benz, volvo, mercedes, placa, suzuki, volkswagen, para, yamaha, nissan, soporte, freno, embrague, mitsubishi, moldura\n",
      "Cluster 20: tela, tipo, tejido, punto, trama, urdimbre, zara, polo, shirt, remera, carmel, vestido, azzorti, pacifika, pantal, plano, camiseta, blusa, pantalon, camisa\n",
      "Cluster 5: zara, marca, calzado, home, modelo, casual, tommy, hilfiger, tela, tipo, zapatilla, vestir, monturas, para, accesorios, adidas, plano, tejido, punto, ripley\n",
      "Cluster 29: tela, tipo, tejido, secret, trama, urdimbre, victorias, braga, calz, sost, victoria, pijama, punto, chompa, sueter, secrets, pantal, sosten, calzon, cadena\n",
      "Cluster 23: caterpillar, empaquetadura, abrazadera, arandela, espaciador, arosello, laina, cojinete, rodamiento, retenedor, inyector, brida, aislador, carcaza, buje, merck, kgaa, agarradera, contactor, respiradero\n"
     ]
    }
   ],
   "source": [
    "import pandas as pd\n",
    "from collections import Counter\n",
    "\n",
    "# Suponiendo que tu dataframe se llama `df` y tiene columnas 'oraciones' y 'etiquetas'\n",
    "\n",
    "# Iterar sobre cada etiqueta única\n",
    "for etiqueta in df['etiqueta'].unique():\n",
    "    # Filtrar las oraciones asociadas a la etiqueta\n",
    "    oraciones = df.loc[df['etiqueta'] == etiqueta, 'limpio']\n",
    "    \n",
    "    # Unir todas las palabras de las oraciones en una lista\n",
    "    palabras = \" \".join(oraciones).split()\n",
    "    palabras = [i for i in palabras if len(i)>3]\n",
    "    \n",
    "    # Contar la frecuencia de cada palabra\n",
    "    contador = Counter(palabras)\n",
    "    \n",
    "    # Obtener las 20 palabras más repetidas\n",
    "    top_20_palabras = [palabra for palabra, _ in contador.most_common(20)]\n",
    "    \n",
    "    # Convertir las palabras a una cadena separada por comas\n",
    "    palabras_como_string = \", \".join(top_20_palabras)\n",
    "    \n",
    "    # Imprimir el resultado para el cluster actual\n",
    "    print(f\"Cluster {etiqueta}: {palabras_como_string}\")"
   ]
  },
  {
   "cell_type": "code",
   "execution_count": 15,
   "id": "ea0b6828-066d-4858-a2d8-ecd54a602959",
   "metadata": {},
   "outputs": [],
   "source": [
    "# Diccionario con las etiquetas descriptivas por cluster\n",
    "etiquetas_descriptivas = {\n",
    "    25: \"Sistema Hidráulico y Componentes\",\n",
    "    9: \"Alimentos y Bebidas\",\n",
    "    18: \"Reparación y Mantenimiento\",\n",
    "    4: \"Electrónica y Accesorios\",\n",
    "    12: \"Filtros y Sensores Automotrices\",\n",
    "    3: \"Partes de Vehículos\",\n",
    "    8: \"Juguetes y Decoración\",\n",
    "    21: \"Ropa y Accesorios de Marca\",\n",
    "    13: \"Libros y Herramientas\",\n",
    "    28: \"Joyas y Accesorios\",\n",
    "    26: \"Conexiones y Componentes Técnicos\",\n",
    "    19: \"Textiles y Confecciones\",\n",
    "    22: \"Herramientas y Placas\",\n",
    "    0: \"Equipo Deportivo y Vehículos\",\n",
    "    24: \"Soportes y Componentes Técnicos\",\n",
    "    2: \"Tecnología y Componentes Eléctricos\",\n",
    "    15: \"Materiales y Herramientas de Construcción\",\n",
    "    14: \"Componentes Industriales\",\n",
    "    6: \"Ropa y Accesorios Generales\",\n",
    "    10: \"Bolsos y Mochilas\",\n",
    "    11: \"Accesorios Electrónicos\",\n",
    "    1: \"Productos Técnicos Diversos\",\n",
    "    16: \"Partes Automotrices\",\n",
    "    7: \"Componentes Caterpillar\",\n",
    "    27: \"Moda y Accesorios Personales\",\n",
    "    17: \"Motores y Automóviles\",\n",
    "    20: \"Textiles y Ropa\",\n",
    "    5: \"Calzado y Moda\",\n",
    "    29: \"Ropa Interior y Pijamas\",\n",
    "    23: \"Componentes Industriales Caterpillar\"\n",
    "}\n",
    "\n",
    "# Agregar una nueva columna 'descripcion' al DataFrame con el mapeo\n",
    "df['categoria'] = df['etiqueta'].map(etiquetas_descriptivas)"
   ]
  },
  {
   "cell_type": "code",
   "execution_count": 17,
   "id": "5d677b2c-8012-4825-a9b4-ed6e115911f2",
   "metadata": {},
   "outputs": [],
   "source": [
    "df_pepito = df[['id_Mercaderia','categoria']]"
   ]
  },
  {
   "cell_type": "code",
   "execution_count": 19,
   "id": "973cf020-db85-4266-b886-dbf7bd95c214",
   "metadata": {},
   "outputs": [],
   "source": [
    "df_pepito.to_csv(\"categorias.csv\",index=False)"
   ]
  },
  {
   "cell_type": "code",
   "execution_count": null,
   "id": "0fefee4c-5877-43ce-add2-1ebf759c03e5",
   "metadata": {},
   "outputs": [],
   "source": []
  }
 ],
 "metadata": {
  "kernelspec": {
   "display_name": "Python 3 (ipykernel)",
   "language": "python",
   "name": "python3"
  },
  "language_info": {
   "codemirror_mode": {
    "name": "ipython",
    "version": 3
   },
   "file_extension": ".py",
   "mimetype": "text/x-python",
   "name": "python",
   "nbconvert_exporter": "python",
   "pygments_lexer": "ipython3",
   "version": "3.11.7"
  }
 },
 "nbformat": 4,
 "nbformat_minor": 5
}
